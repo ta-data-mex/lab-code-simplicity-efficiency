{
 "cells": [
  {
   "cell_type": "code",
   "execution_count": 17,
   "metadata": {},
   "outputs": [
    {
     "name": "stdout",
     "output_type": "stream",
     "text": [
      "Welcome to this calculator!\n",
      "It can add and subtract whole numbers from zero to five\n",
      "Please choose your first number: five\n",
      "Please write a valid number, numbers must be integers: daf\n",
      "Please write a valid number, numbers must be integers: 5\n",
      "What do you want to do? plus or minus: afkmds\n",
      "Please write a valid operation, plus or minus: afsdf\n",
      "Please write a valid operation, plus or minus: minus\n",
      "Please choose your second number: 0\n",
      "5 minus 0 is equal to 5\n"
     ]
    }
   ],
   "source": [
    "print('Welcome to this calculator!')\n",
    "print('It can add and subtract whole numbers from zero to five')\n",
    "#FIRST INPUT\n",
    "a = input('Please choose your first number: ')\n",
    "run = True\n",
    "while run == True:\n",
    "    try:\n",
    "        int(a)\n",
    "        run = False\n",
    "    except:\n",
    "        a = input('Please write a valid number, numbers must be integers: ')\n",
    "\n",
    "#OPERATION:\n",
    "operation = input('What do you want to do? plus or minus: ')\n",
    "run = True\n",
    "while run == True:\n",
    "    if operation == 'plus' or operation == 'minus':\n",
    "        run = False\n",
    "    else:\n",
    "        operation = input('Please write a valid operation, plus or minus: ')\n",
    "#SECOND INPUT:\n",
    "run = True\n",
    "c = input('Please choose your second number: ')\n",
    "while run == True:\n",
    "    try:\n",
    "        int(c)\n",
    "        run = False\n",
    "    except:\n",
    "        c = input('Please write a valid number, numbers must be integers: ')\n",
    "\n",
    "if operation == 'plus':\n",
    "    print(f'{a} plus {c} is equal to {int(a)+int(c)}')\n",
    "else:\n",
    "    print(f'{a} minus {c} is equal to {int(a)-int(c)}')\n",
    "\n",
    "print(\"Thanks for using this calculator, goodbye :)\")"
   ]
  },
  {
   "cell_type": "code",
   "execution_count": null,
   "metadata": {},
   "outputs": [],
   "source": []
  }
 ],
 "metadata": {
  "kernelspec": {
   "display_name": "Python 3",
   "language": "python",
   "name": "python3"
  },
  "language_info": {
   "codemirror_mode": {
    "name": "ipython",
    "version": 3
   },
   "file_extension": ".py",
   "mimetype": "text/x-python",
   "name": "python",
   "nbconvert_exporter": "python",
   "pygments_lexer": "ipython3",
   "version": "3.7.3"
  }
 },
 "nbformat": 4,
 "nbformat_minor": 2
}
