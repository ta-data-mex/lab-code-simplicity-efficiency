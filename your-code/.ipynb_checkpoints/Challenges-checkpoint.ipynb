{
 "cells": [
  {
   "cell_type": "markdown",
   "metadata": {},
   "source": [
    "# **Challenge 1** Dumb Calculator"
   ]
  },
  {
   "cell_type": "code",
   "execution_count": 2,
   "metadata": {},
   "outputs": [],
   "source": [
    "def dumb_calculator():\n",
    "    \n",
    "    print('Welcome to this calculator!')\n",
    "    print('It can add and subtract whole numbers from zero to five')\n",
    "    a = input('Please choose your first number (zero to five): ')\n",
    "    b = input('What do you want to do? plus or minus: ')\n",
    "    c = input('Please choose your second number (zero to five): ')\n",
    "\n",
    "    names = {'negative five':-5,'negative four':-4,'negative three':-3,'negative two':-2,'negative one':-1,\n",
    "             'zero':0,'one':1,'two':2,'three':3,'four':4,'five':5,\n",
    "             'six':6,'seven':7,'eight':8,'nine':9,'ten':10}\n",
    "    \n",
    "    try:\n",
    "        result = [names[a] + names[c] if b == 'plus' else names[a] - names[c]][0]\n",
    "        print(f'{a} {b} {c} equals',[k for k,v in names.items() if v == result][0])\n",
    "    except:\n",
    "        print(\"I am not able to answer this question. Check your input.\")\n",
    "    \n",
    "    print(\"Thanks for using this calculator, goodbye :)\")"
   ]
  },
  {
   "cell_type": "code",
   "execution_count": 3,
   "metadata": {},
   "outputs": [
    {
     "name": "stdout",
     "output_type": "stream",
     "text": [
      "Welcome to this calculator!\n",
      "It can add and subtract whole numbers from zero to five\n"
     ]
    },
    {
     "name": "stdin",
     "output_type": "stream",
     "text": [
      "Please choose your first number (zero to five):  zero\n",
      "What do you want to do? plus or minus:  minus\n",
      "Please choose your second number (zero to five):  five\n"
     ]
    },
    {
     "name": "stdout",
     "output_type": "stream",
     "text": [
      "zero minus five equals negative five\n",
      "Thanks for using this calculator, goodbye :)\n"
     ]
    }
   ],
   "source": [
    "dumb_calculator()"
   ]
  },
  {
   "cell_type": "markdown",
   "metadata": {},
   "source": [
    "# **Challenge 2** Batch String Generator"
   ]
  },
  {
   "cell_type": "code",
   "execution_count": 4,
   "metadata": {},
   "outputs": [],
   "source": [
    "import random\n",
    "import string\n",
    "\n",
    "def BatchStringGenerator():\n",
    "    \n",
    "    a = int(input('Enter minimum string length: '))\n",
    "    b = int(input('Enter maximum string length: '))\n",
    "    n = int(input('How many random strings to generate? '))\n",
    "    \n",
    "    if b < a:\n",
    "        print('Incorrect min and max string lengths. Try again.')\n",
    "    else:\n",
    "        try:\n",
    "            if a == b:\n",
    "                rng = [a]\n",
    "            else:\n",
    "                rng = range(a,b)\n",
    "            print([''.join([random.choice(string.ascii_lowercase+string.digits) for j in range(random.choice(rng))]) for i in range(n)])\n",
    "        except:\n",
    "            print('Incorrect input, has to be integer numbers. Try again.')"
   ]
  },
  {
   "cell_type": "code",
   "execution_count": 5,
   "metadata": {},
   "outputs": [
    {
     "name": "stdin",
     "output_type": "stream",
     "text": [
      "Enter minimum string length:  1\n",
      "Enter maximum string length:  10\n",
      "How many random strings to generate?  100\n"
     ]
    },
    {
     "name": "stdout",
     "output_type": "stream",
     "text": [
      "['zdxmgi5', 'nv0e8biti', 'dguvnv7r0', 'xmxw', 'o', 'gwp', 'qtg41d', 'amszoq6', 'w', 'bfpk5fhk', 'zksicuk', 'n', 'hdge', 'cl4tiqs2', 'wq6zwxde', '7nf', 'm9bg8r', '3', 'pjm', 'tso', 'xmrk', 'snmnwe', 'dp883pc8e', 'k', 'n54n', 'o', 'bp', '5', 't5uzjj5d', 'zjaex', 'kktrnfjks', '7zaos0', 'w8mk', 'zxesl', '9e', 'k3st', 'o2ht6bndj', 'a5', 'lu', 'c1gzo', 'y', '1x9', 'v38by', 'ge3pvez7', '4wuiqp', 'eny8', 'tdzyn26f', 'f', 'af5cyw', 'ps81at', 'edas', 'l', 'b24', 'ki1sez2', '2', 'm9k1', 'bowkr5wi', 'uors7q3', 's1n0qubk', 'pjavmqr', 'qn', 'am', 'qqzetp', '2', 'vr', 'd8', '8heweio5', 'vhp', 'eq', '031vxgi', 'bd6c3', 'rc75ra6', 'ojxdtonp', '0pn8lxtmu', 'qjkxhuriu', '8lz', 'wmth21qv', '3gx44', '62qe', 'g88yidl96', 'gc2brx', 'xdebaod5e', '32aksa', '4ka3k3', '7dtxe6532', '6asjq0', 'jyh068q', '32opxal8', 'mftiw', 'xxit', '8qw3mi', '9', 'ffl2ooygp', 'w', 'b', 'pf3w', 'jhxi', 'zcm', 'ze2', 'knruqcd']\n"
     ]
    }
   ],
   "source": [
    "BatchStringGenerator()"
   ]
  },
  {
   "cell_type": "markdown",
   "metadata": {},
   "source": [
    "# **Challenge 3** Longest Right Triangle Side"
   ]
  },
  {
   "cell_type": "code",
   "execution_count": 56,
   "metadata": {},
   "outputs": [],
   "source": [
    "def my_function():\n",
    "    X = int(input(\"What is the maximal length of the triangle side? Enter a number: \")) - 1\n",
    "    if X <= 5:\n",
    "        print(\"The longest side possible is 0\")\n",
    "    else:\n",
    "        print(\"The longest side possible is\", [i for i in range(5,X) for j in range(4,X) for k in range(3,X) if i*i == j*j + k*k][-1])"
   ]
  },
  {
   "cell_type": "code",
   "execution_count": 57,
   "metadata": {},
   "outputs": [
    {
     "name": "stdin",
     "output_type": "stream",
     "text": [
      "What is the maximal length of the triangle side? Enter a number:  15\n"
     ]
    },
    {
     "name": "stdout",
     "output_type": "stream",
     "text": [
      "The longest side possible is 13\n"
     ]
    }
   ],
   "source": [
    "my_function()"
   ]
  },
  {
   "cell_type": "markdown",
   "metadata": {},
   "source": [
    "# **Bonus Challenge** Climbing a Stair Case "
   ]
  },
  {
   "cell_type": "code",
   "execution_count": 101,
   "metadata": {},
   "outputs": [],
   "source": [
    "class ClimbStairs:\n",
    "\n",
    "    def __init__(self, total_steps=10): \n",
    "        self.total_steps = total_steps\n",
    "        self.calculation_count = 0\n",
    "\n",
    "    def calc_solutions(self,i=None):\n",
    "        if not i:\n",
    "            i=0\n",
    "        if i > self.total_steps:\n",
    "            return 0\n",
    "        if i == self.total_steps:\n",
    "            return 1\n",
    "        self.calculation_count += 1\n",
    "        return(self.calc_solutions(i+1) + self.calc_solutions(i+2))"
   ]
  },
  {
   "cell_type": "code",
   "execution_count": 117,
   "metadata": {},
   "outputs": [
    {
     "name": "stdin",
     "output_type": "stream",
     "text": [
      "How many steps in the stair? 40\n"
     ]
    },
    {
     "name": "stdout",
     "output_type": "stream",
     "text": [
      "Ways to climb to top: 165580141\n",
      "Total calculations performed: 267914295\n"
     ]
    }
   ],
   "source": [
    "new_challenge = ClimbStairs(int(input(\"How many steps in the stair?\")))\n",
    "print('Ways to climb to top: %s' % new_challenge.calc_solutions())\n",
    "print('Total calculations performed: %s' % new_challenge.calculation_count)"
   ]
  },
  {
   "cell_type": "code",
   "execution_count": null,
   "metadata": {},
   "outputs": [],
   "source": []
  }
 ],
 "metadata": {
  "kernelspec": {
   "display_name": "Python 3",
   "language": "python",
   "name": "python3"
  },
  "language_info": {
   "codemirror_mode": {
    "name": "ipython",
    "version": 3
   },
   "file_extension": ".py",
   "mimetype": "text/x-python",
   "name": "python",
   "nbconvert_exporter": "python",
   "pygments_lexer": "ipython3",
   "version": "3.7.3"
  }
 },
 "nbformat": 4,
 "nbformat_minor": 2
}
