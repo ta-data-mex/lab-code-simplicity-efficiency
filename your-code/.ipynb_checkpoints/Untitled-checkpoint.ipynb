{
 "cells": [
  {
   "cell_type": "code",
   "execution_count": 8,
   "metadata": {},
   "outputs": [
    {
     "name": "stdout",
     "output_type": "stream",
     "text": [
      "Welcome to this calculator!\n",
      "It can add and subtract whole numbers from zero to five\n",
      "Please choose your first number (zero to five): 2\n",
      "What do you want to do? plus or minus: plus\n",
      "Please choose your second number (zero to five): 2\n",
      "I am not able to answer this question. Check your input.\n",
      "zero\n",
      "Thanks for using this calculator, goodbye :)\n"
     ]
    }
   ],
   "source": [
    "print('Welcome to this calculator!')\n",
    "print('It can add and subtract whole numbers from zero to five')\n",
    "a = input('Please choose your first number (zero to five): ')\n",
    "b = input('What do you want to do? plus or minus: ')\n",
    "c = input('Please choose your second number (zero to five): ')\n",
    "\n",
    "\n",
    "numeros = {'zero': 0, 'one': 1, 'two': 2, 'three': 3, 'four': 4, 'five': 5}\n",
    "resultados_posibles = {-5:'minus five', -4:'minus four', -3:'minus three', -2:'minus two', -1:'minus one', 0:'zero', 1:'one', 2:'two', 3:'three', 4:'four', 5:'five', 6:'six', 7:'seven', 8:'eight', 9:'nine', 10:'ten'}\n",
    "\n",
    "if b == 'plus':\n",
    "\n",
    "resultado = 0\n",
    "    try: resultado = numeros[a] + numeros[c]\n",
    "    except: print('I am not able to answer this question. Check your input.')\n",
    "elif b == 'minus':\n",
    "    try: resultado = numeros[a] - numeros[c]\n",
    "    except: print('I am not able to answer this question. Check your input.')\n",
    "else: print('I am not able to answer this question. Check your input.')\n",
    "\n",
    "print(resultados_posibles[resultado])\n",
    "print(\"Thanks for using this calculator, goodbye :)\")"
   ]
  },
  {
   "cell_type": "code",
   "execution_count": null,
   "metadata": {},
   "outputs": [],
   "source": []
  },
  {
   "cell_type": "code",
   "execution_count": null,
   "metadata": {},
   "outputs": [],
   "source": []
  }
 ],
 "metadata": {
  "kernelspec": {
   "display_name": "Python 3",
   "language": "python",
   "name": "python3"
  }
 },
 "nbformat": 4,
 "nbformat_minor": 2
}
