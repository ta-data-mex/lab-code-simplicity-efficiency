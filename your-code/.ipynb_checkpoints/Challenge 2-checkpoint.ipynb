{
 "cells": [
  {
   "cell_type": "code",
   "execution_count": 5,
   "metadata": {},
   "outputs": [],
   "source": [
    "import random"
   ]
  },
  {
   "cell_type": "code",
   "execution_count": 13,
   "metadata": {},
   "outputs": [],
   "source": [
    "def RandomString():\n",
    "    a = int(input('Enter minimum string length: '))\n",
    "    b = int(input('Enter maximum string length: '))\n",
    "    n = int(input('How many random strings to generate? '))\n",
    "    set_ = ['a','b','c','d','e','f','g','h','i','j','k','l','m','n','o','p','q','r','s','t','u','v','w','x','y','z','0','1','2','3','4','5','6','7','8','9']\n",
    "    \n",
    "    if b>a:\n",
    "        length = random.choice(range(a,b))\n",
    "    elif b==a:\n",
    "        length = a\n",
    "    else:\n",
    "        raise 'minimum string length cannot be bigger than maximum'\n",
    "    \n",
    "    return [\"\".join([random.choice(set_) for i in range(length)]) for i in range(n)]"
   ]
  },
  {
   "cell_type": "code",
   "execution_count": 14,
   "metadata": {},
   "outputs": [
    {
     "name": "stdout",
     "output_type": "stream",
     "text": [
      "Enter minimum string length: 5\n",
      "Enter maximum string length: 9\n",
      "How many random strings to generate? 10\n"
     ]
    },
    {
     "data": {
      "text/plain": [
       "['698nxq4',\n",
       " '8maip3y',\n",
       " 'phdvzfw',\n",
       " '2li2pov',\n",
       " 'b5jeqdm',\n",
       " 'h2r2q55',\n",
       " '8d7pnox',\n",
       " 'l5ow4ft',\n",
       " 'p2ej38o',\n",
       " 'je86uie']"
      ]
     },
     "execution_count": 14,
     "metadata": {},
     "output_type": "execute_result"
    }
   ],
   "source": [
    "RandomString()"
   ]
  }
 ],
 "metadata": {
  "kernelspec": {
   "display_name": "Python 3",
   "language": "python",
   "name": "python3"
  },
  "language_info": {
   "codemirror_mode": {
    "name": "ipython",
    "version": 3
   },
   "file_extension": ".py",
   "mimetype": "text/x-python",
   "name": "python",
   "nbconvert_exporter": "python",
   "pygments_lexer": "ipython3",
   "version": "3.7.3"
  }
 },
 "nbformat": 4,
 "nbformat_minor": 2
}
