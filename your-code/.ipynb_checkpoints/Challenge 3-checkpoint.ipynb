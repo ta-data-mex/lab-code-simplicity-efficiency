{
 "cells": [
  {
   "cell_type": "code",
   "execution_count": 25,
   "metadata": {},
   "outputs": [],
   "source": [
    "def my_function():\n",
    "    \n",
    "    X = input(\"What is the maximal length of the triangle side? Enter a number larger than 5: \")\n",
    "    run = True\n",
    "    while run == True:\n",
    "        if int(X) < 5:\n",
    "            X = input(\"Enter a number larger than 5: \")\n",
    "        else:\n",
    "            run = False\n",
    "    X = int(X)\n",
    "    \n",
    "    solution = max([[x, y, z] for x in range(5, X) for y in range(4, X) for z in range(3, X) if (x**2 == y**2 + z**2)])\n",
    "    \n",
    "    return f\"The longest side possible is: {solution} hypotenuse: {solution[0]}\"\n"
   ]
  },
  {
   "cell_type": "code",
   "execution_count": 26,
   "metadata": {
    "scrolled": true
   },
   "outputs": [
    {
     "name": "stdout",
     "output_type": "stream",
     "text": [
      "What is the maximal length of the triangle side? Enter a number larger than 5: 16\n"
     ]
    },
    {
     "data": {
      "text/plain": [
       "'The longest side possible is: [15, 12, 9] hypotenuse: 15'"
      ]
     },
     "execution_count": 26,
     "metadata": {},
     "output_type": "execute_result"
    }
   ],
   "source": [
    "my_function()"
   ]
  },
  {
   "cell_type": "code",
   "execution_count": null,
   "metadata": {},
   "outputs": [],
   "source": []
  },
  {
   "cell_type": "code",
   "execution_count": null,
   "metadata": {},
   "outputs": [],
   "source": []
  }
 ],
 "metadata": {
  "kernelspec": {
   "display_name": "Python 3",
   "language": "python",
   "name": "python3"
  },
  "language_info": {
   "codemirror_mode": {
    "name": "ipython",
    "version": 3
   },
   "file_extension": ".py",
   "mimetype": "text/x-python",
   "name": "python",
   "nbconvert_exporter": "python",
   "pygments_lexer": "ipython3",
   "version": "3.7.3"
  }
 },
 "nbformat": 4,
 "nbformat_minor": 2
}
