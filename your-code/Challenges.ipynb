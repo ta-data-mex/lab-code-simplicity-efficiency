{
 "cells": [
  {
   "cell_type": "code",
   "execution_count": 79,
   "metadata": {},
   "outputs": [
    {
     "name": "stdout",
     "output_type": "stream",
     "text": [
      "Welcome to this calculator!\n",
      "It can add and subtract whole numbers from zero to five\n",
      "Please choose your first number (zero to five): five\n",
      "What do you want to do? plus or minus: plus\n",
      "Please choose your second number (zero to five): two\n",
      "{0: 'zero', 1: 'one', 2: 'two', 3: 'three', 4: 'four', 5: 'five', 6: 'six', 7: 'seven', 8: 'eight', 9: 'nine', 10: 'ten'}\n",
      "{'zero': 0, 'one': 1, 'two': 2, 'three': 3, 'four': 4, 'five': 5, 'six': 6, 'seven': 7, 'eight': 8, 'nine': 9, 'ten': 10}\n"
     ]
    },
    {
     "data": {
      "text/plain": [
       "'five plus two equals seven'"
      ]
     },
     "execution_count": 79,
     "metadata": {},
     "output_type": "execute_result"
    }
   ],
   "source": [
    "\"\"\"\n",
    "This is a dumb calculator that can add and subtract whole numbers from zero to five.\n",
    "When you run the code, you are prompted to enter two numbers (in the form of English\n",
    "word instead of number) and the operator sign (also in the form of English word).\n",
    "The code will perform the calculation and give the result if your input is what it\n",
    "expects.\n",
    "\"\"\"\n",
    "def dumb_calculator():\n",
    "    print('Welcome to this calculator!')\n",
    "    print('It can add and subtract whole numbers from zero to five')\n",
    "    a = input('Please choose your first number (zero to five): ')\n",
    "    b = input('What do you want to do? plus or minus: ')\n",
    "    c = input('Please choose your second number (zero to five): ')\n",
    "\n",
    "    num_list=['zero','one', 'two','three', 'four', 'five', 'six', 'seven', 'eight', 'nine', 'ten']\n",
    "    \n",
    "    num_lett={i:num_list[i] for i in range(len(num_list))}\n",
    "    lett_num={num_list[i]:i for i in range(len(num_list))}\n",
    "    \n",
    "    print(num_lett)\n",
    "    print(lett_num)\n",
    "\n",
    "    if (a not in num_list[:6]) or (c not in num_list[:6]):\n",
    "        b = 'Hm'\n",
    "    #B comparations\n",
    "    if b == 'plus':\n",
    "        ans = lett_num[a]+lett_num[c]\n",
    "    elif b == 'minus':\n",
    "        ans = lett_num[a]-lett_num[c]\n",
    "    else: \n",
    "        return (\"I am not able to answer this question. Check your input.\")\n",
    "    if ans < 0:\n",
    "        return(f\"{a} {b} {c} equals negative {num_lett[abs(ans)]}\")\n",
    "    elif ans >= 0:\n",
    "        return(f\"{a} {b} {c} equals {num_lett[(ans)]}\")\n",
    "\n",
    "dumb_calculator()"
   ]
  },
  {
   "cell_type": "code",
   "execution_count": 86,
   "metadata": {},
   "outputs": [
    {
     "name": "stdout",
     "output_type": "stream",
     "text": [
      "Enter minimum string length: 10\n",
      "Enter maximum string length: 20\n",
      "How many random strings to generate? 2\n"
     ]
    },
    {
     "data": {
      "text/plain": [
       "['umtwtn4fbdard', '9d7r7n6dr1orhwnjrd6t']"
      ]
     },
     "execution_count": 86,
     "metadata": {},
     "output_type": "execute_result"
    }
   ],
   "source": [
    "\"\"\"\n",
    "The code below generates a given number of random strings that consists of numbers and \n",
    "lower case English letters. You can also define the range of the variable lengths of\n",
    "the strings being generated.\n",
    "\n",
    "The code is functional but has a lot of room for improvement. Use what you have learned\n",
    "about simple and efficient code, refactor the code.\n",
    "\"\"\"\n",
    "\n",
    "import random\n",
    "import sys\n",
    "def RandomStringGenerator(l=12,characters=list('qwertyuiopasdfghjklzxcvbnm1234567890')):\n",
    "    string = ''.join([random.choice(characters) for numbers in range(l)])\n",
    "    return string\n",
    "\n",
    "def BatchStringGenerator(lenght, minimum=8, maximum=12):\n",
    "    if minimum > maximum: sys.exit('Incorrect min and max string lengths. Try again.')\n",
    "    else: maximum = maximum + 1\n",
    "    return [RandomStringGenerator(random.choice(range(minimum,maximum))) for i in range(lenght)] \n",
    "\n",
    "a = input('Enter minimum string length: ')\n",
    "b = input('Enter maximum string length: ')\n",
    "n = input('How many random strings to generate? ')\n",
    "\n",
    "BatchStringGenerator(int(n), int(a), int(b))"
   ]
  },
  {
   "cell_type": "code",
   "execution_count": 125,
   "metadata": {},
   "outputs": [
    {
     "name": "stdout",
     "output_type": "stream",
     "text": [
      "What is the maximal length of the triangle side? Enter a number: 1000\n",
      "The longest side possible is 999\n"
     ]
    }
   ],
   "source": [
    "\"\"\"\n",
    "You are presented with an integer number larger than 5. Your goal is to identify the longest side\n",
    "possible in a right triangle whose sides are not longer than the number you are given.\n",
    "\n",
    "For example, if you are given the number 15, there are 3 possibilities to compose right triangles:\n",
    "\n",
    "1. [3, 4, 5]\n",
    "2. [6, 8, 10]\n",
    "3. [5, 12, 13]\n",
    "\n",
    "The following function shows one way to solve the problem but the code is not ideal or efficient.\n",
    "Refactor the code based on what you have learned about code simplicity and efficiency.\n",
    "\"\"\"\n",
    "\n",
    "def my_function(X):\n",
    "    a= [0]\n",
    "    solutions = [a.extend([x, y, z]) for x in range(1, X) for y in range(1, X) for z in range(1, X) if (x*x==y*y+z*z)]\n",
    "    return max(a)\n",
    "\n",
    "X = input(\"What is the maximal length of the triangle side? Enter a number: \")\n",
    "\n",
    "print(\"The longest side possible is \" + str(my_function(int(X))))\n"
   ]
  },
  {
   "cell_type": "code",
   "execution_count": null,
   "metadata": {},
   "outputs": [],
   "source": []
  }
 ],
 "metadata": {
  "kernelspec": {
   "display_name": "Python 3",
   "language": "python",
   "name": "python3"
  },
  "language_info": {
   "codemirror_mode": {
    "name": "ipython",
    "version": 3
   },
   "file_extension": ".py",
   "mimetype": "text/x-python",
   "name": "python",
   "nbconvert_exporter": "python",
   "pygments_lexer": "ipython3",
   "version": "3.7.1"
  }
 },
 "nbformat": 4,
 "nbformat_minor": 2
}
